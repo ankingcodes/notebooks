{
 "cells": [
  {
   "cell_type": "markdown",
   "id": "0d34ce63",
   "metadata": {},
   "source": [
    "#### Two Sum Problem"
   ]
  },
  {
   "cell_type": "code",
   "execution_count": null,
   "id": "c21aac3f",
   "metadata": {},
   "outputs": [],
   "source": [
    "def twoSum(arr, target):\n",
    "    arr.sort()\n",
    "    l, r = 0, len(arr) - 1\n",
    "    while (l < r):\n",
    "        acc = arr[l] + arr[r]\n",
    "        if acc == target: \n",
    "            return arr[l], arr[r]\n",
    "        elif acc < target:\n",
    "            l += 1\n",
    "        else: r -= 1\n",
    "    return -1, -1"
   ]
  },
  {
   "cell_type": "code",
   "execution_count": 22,
   "id": "8ed3080e-8919-432e-9d89-1d2455404b8e",
   "metadata": {},
   "outputs": [
    {
     "name": "stdout",
     "output_type": "stream",
     "text": [
      "2 5\n"
     ]
    }
   ],
   "source": [
    "target = 7\n",
    "arr = [2, 7, 5, 1]\n",
    "l, r = twoSum(arr, target)\n",
    "print(l, r)"
   ]
  },
  {
   "cell_type": "markdown",
   "id": "e9f6b814",
   "metadata": {},
   "source": [
    "#### Three Sum Problem"
   ]
  },
  {
   "cell_type": "code",
   "execution_count": 32,
   "id": "8391cb0f",
   "metadata": {},
   "outputs": [],
   "source": [
    "def threeSum(arr, target):\n",
    "    arr.sort()\n",
    "    for i in range(0, len(arr)):\n",
    "        newTarget = target - arr[i]\n",
    "        l, r = 0, len(arr) - 1\n",
    "        while l < r:\n",
    "            acc = arr[l] + arr[r]\n",
    "            if acc == newTarget: return arr[i], arr[l], arr[r]\n",
    "            elif acc < target: l += 1\n",
    "            else: r -= 1\n",
    "    return -1, -1, -1"
   ]
  },
  {
   "cell_type": "code",
   "execution_count": 33,
   "id": "a5511f04",
   "metadata": {
    "scrolled": true
   },
   "outputs": [
    {
     "name": "stdout",
     "output_type": "stream",
     "text": [
      "1 2 5\n"
     ]
    }
   ],
   "source": [
    "target = 8\n",
    "arr = [2, 7, 5, 1]\n",
    "i1, i2, i3 = threeSum(arr, target)\n",
    "print(i1, i2, i3)"
   ]
  },
  {
   "cell_type": "markdown",
   "id": "62853aff",
   "metadata": {},
   "source": [
    "#### Maximum Subarray Sum"
   ]
  },
  {
   "cell_type": "code",
   "execution_count": 29,
   "id": "77a9c9d1",
   "metadata": {},
   "outputs": [],
   "source": [
    "def subarraySum(arr):\n",
    "    pf = [0]\n",
    "    for i in range(1, len(arr)-1):\n",
    "        pf.append(pf[i-1] + arr[i])\n",
    "    mxs, mxp = pf[1], pf[0]\n",
    "    for i in range(1, len(arr)-1):\n",
    "        mxs = max(mxs, pf[i] - mxp)\n",
    "        mxp = min(mxp, pf[i])\n",
    "    return mxs\n"
   ]
  },
  {
   "cell_type": "code",
   "execution_count": 31,
   "id": "7d274b37",
   "metadata": {},
   "outputs": [
    {
     "name": "stdout",
     "output_type": "stream",
     "text": [
      "9\n"
     ]
    }
   ],
   "source": [
    "arr = [-1, 3, -2, 5, 3, -5, 2, 2]\n",
    "ans = subarraySum(arr)\n",
    "print(ans)"
   ]
  },
  {
   "cell_type": "code",
   "execution_count": null,
   "id": "923a7ce4",
   "metadata": {},
   "outputs": [],
   "source": []
  }
 ],
 "metadata": {
  "kernelspec": {
   "display_name": "Python 3 (ipykernel)",
   "language": "python",
   "name": "python3"
  },
  "language_info": {
   "codemirror_mode": {
    "name": "ipython",
    "version": 3
   },
   "file_extension": ".py",
   "mimetype": "text/x-python",
   "name": "python",
   "nbconvert_exporter": "python",
   "pygments_lexer": "ipython3",
   "version": "3.8.0"
  }
 },
 "nbformat": 4,
 "nbformat_minor": 5
}
