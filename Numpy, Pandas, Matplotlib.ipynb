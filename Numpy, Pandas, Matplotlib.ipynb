{
 "cells": [
  {
   "cell_type": "markdown",
   "id": "34ae451d",
   "metadata": {},
   "source": [
    "#### Working with files in python"
   ]
  },
  {
   "cell_type": "code",
   "execution_count": 1,
   "id": "3d1b1c5e",
   "metadata": {},
   "outputs": [
    {
     "name": "stdout",
     "output_type": "stream",
     "text": [
      "['This is a shit story.', 'But it is not a story.']\n"
     ]
    }
   ],
   "source": [
    "# create a file & write some stuff\n",
    "fileName = 'test.txt'\n",
    "with open(fileName, 'w') as f:\n",
    "    story = \"\"\"\n",
    "    This is a shit story.\n",
    "    But it is not a story.\n",
    "    \"\"\"\n",
    "    f.write(story)\n",
    "    f.close()\n",
    "    \n",
    "# read the file\n",
    "fileContent = \"\"\n",
    "with open(fileName, 'r+') as f:\n",
    "    fileContent = f.read()\n",
    "    f.close()\n",
    "\n",
    "# work with contents\n",
    "fileContent = [x.strip() for x in fileContent.strip().split(\"\\n\")]\n",
    "print(fileContent)"
   ]
  },
  {
   "cell_type": "markdown",
   "id": "5b575d71",
   "metadata": {},
   "source": [
    "#### Working with TOML files\n"
   ]
  },
  {
   "cell_type": "code",
   "execution_count": 2,
   "id": "941d9880",
   "metadata": {},
   "outputs": [
    {
     "name": "stdout",
     "output_type": "stream",
     "text": [
      "Defaulting to user installation because normal site-packages is not writeable\n",
      "Requirement already satisfied: toml in /home/anking/.local/lib/python3.8/site-packages (0.10.2)\n",
      "\u001b[33mWARNING: You are using pip version 21.2.2; however, version 21.2.3 is available.\n",
      "You should consider upgrading via the '/usr/bin/python3 -m pip install --upgrade pip' command.\u001b[0m\n",
      "Note: you may need to restart the kernel to use updated packages.\n"
     ]
    }
   ],
   "source": [
    "pip install toml"
   ]
  },
  {
   "cell_type": "code",
   "execution_count": 6,
   "id": "122f296e",
   "metadata": {},
   "outputs": [
    {
     "name": "stdout",
     "output_type": "stream",
     "text": [
      "{'title': 'TOML Example', 'owner': {'name': 'Ankush Bhardwaj', 'dob': datetime.datetime(1979, 5, 27, 7, 32, tzinfo=<toml.tz.TomlTz object at 0x7f5ffc720700>)}, 'database': {'server': '192.168.1.1', 'ports': [8001, 8001, 8002], 'connection_max': 5000, 'enabled': True}, 'clients': {'data': [['gamma', 'delta'], [1, 2]]}}\n",
      "title = \"TOML Example\"\n",
      "\n",
      "[owner]\n",
      "name = \"Ankush Bhardwaj\"\n",
      "dob = 1979-05-27T07:32:00-08:00\n",
      "\n",
      "[database]\n",
      "server = \"192.168.1.1\"\n",
      "ports = [ 8001, 8001, 8002,]\n",
      "connection_max = 5000\n",
      "enabled = true\n",
      "\n",
      "[clients]\n",
      "data = [ [ \"gamma\", \"delta\",], [ 1, 2,],]\n",
      "\n"
     ]
    }
   ],
   "source": [
    "import toml\n",
    "\n",
    "tomlFileName=\"toml_file.toml\"\n",
    "with open(tomlFileName) as f:\n",
    "    tomlContent = f.read()\n",
    "    \n",
    "# parse TOML Contents to dictionary\n",
    "tomlParser = toml.loads(tomlContent)\n",
    "print(tomlParser)\n",
    "\n",
    "# convert TOML dictionary to Toml string\n",
    "tomlString = toml.dumps(tomlParser)\n",
    "print(tomlString)\n"
   ]
  },
  {
   "cell_type": "markdown",
   "id": "236787ef",
   "metadata": {},
   "source": [
    "#### Working with JSON files"
   ]
  },
  {
   "cell_type": "code",
   "execution_count": 12,
   "id": "9dc2367a",
   "metadata": {},
   "outputs": [
    {
     "name": "stdout",
     "output_type": "stream",
     "text": [
      "\"\\n{\\n    \\\"name\\\": \\\"Ankush Bhardwaj\\\",\\n    \\\"database\\\": {\\n        \\\"server\\\": \\\"192.168.1.1\\\",\\n        \\\"ports\\\": [ 8001, 8001, 8002 ],\\n        \\\"enabled\\\": \\\"true\\\"\\n    }\\n}\\n\"\n",
      "\n",
      "{\n",
      "    \"name\": \"Ankush Bhardwaj\",\n",
      "    \"database\": {\n",
      "        \"server\": \"192.168.1.1\",\n",
      "        \"ports\": [ 8001, 8001, 8002 ],\n",
      "        \"enabled\": \"true\"\n",
      "    }\n",
      "}\n",
      "\n"
     ]
    }
   ],
   "source": [
    "import json\n",
    "json_string = \"\"\"\n",
    "{\n",
    "    \"name\": \"Ankush Bhardwaj\",\n",
    "    \"database\": {\n",
    "        \"server\": \"192.168.1.1\",\n",
    "        \"ports\": [ 8001, 8001, 8002 ],\n",
    "        \"enabled\": \"true\"\n",
    "    }\n",
    "}\n",
    "\"\"\"\n",
    "\n",
    "# parse json content\n",
    "jsonParser = json.dumps(json_string)\n",
    "print(jsonParser)\n",
    "\n",
    "# decode json content\n",
    "jsonLoad = json.loads(jsonParser)\n",
    "print(jsonLoad)"
   ]
  },
  {
   "cell_type": "markdown",
   "id": "fdf0789e",
   "metadata": {},
   "source": [
    "#### Numpy"
   ]
  },
  {
   "cell_type": "code",
   "execution_count": 14,
   "id": "0e71675d",
   "metadata": {},
   "outputs": [
    {
     "name": "stdout",
     "output_type": "stream",
     "text": [
      "Defaulting to user installation because normal site-packages is not writeable\n",
      "Collecting numpy\n",
      "  Downloading numpy-1.21.1-cp38-cp38-manylinux_2_12_x86_64.manylinux2010_x86_64.whl (15.8 MB)\n",
      "\u001b[K     |████████████████████████████████| 15.8 MB 1.2 MB/s eta 0:00:01\n",
      "\u001b[?25hInstalling collected packages: numpy\n",
      "Successfully installed numpy-1.21.1\n",
      "\u001b[33mWARNING: You are using pip version 21.2.2; however, version 21.2.3 is available.\n",
      "You should consider upgrading via the '/usr/bin/python3 -m pip install --upgrade pip' command.\u001b[0m\n",
      "Note: you may need to restart the kernel to use updated packages.\n"
     ]
    }
   ],
   "source": [
    "pip install numpy"
   ]
  },
  {
   "cell_type": "code",
   "execution_count": 19,
   "id": "f9c7c22b",
   "metadata": {},
   "outputs": [
    {
     "name": "stdout",
     "output_type": "stream",
     "text": [
      "[1 2 3 4 5 6]\n",
      "[[ 1  2  3  4]\n",
      " [ 5  6  7  8]\n",
      " [ 9 10 11 12]]\n",
      "2\n",
      "[0. 0.]\n",
      "[1. 1.]\n",
      "[2 4 6 8]\n",
      "[2 1 5 3 7 4 6 8]\n",
      "[1 2 3 4 5 6 7 8]\n",
      "1\n",
      "8\n",
      "(8,)\n"
     ]
    }
   ],
   "source": [
    "import numpy as np\n",
    "np.__version__\n",
    "# 1D array - vector\n",
    "arr = np.array([1, 2, 3, 4, 5, 6])\n",
    "print(arr)\n",
    "\n",
    "# 2D array - matrix\n",
    "arr = np.array([[1, 2, 3, 4], [5, 6, 7, 8], [9, 10, 11, 12]])\n",
    "print(arr)\n",
    "print(arr[0][1])\n",
    "\n",
    "# ND array - tensor\n",
    "# initialization\n",
    "print(np.zeros(2))\n",
    "print(np.ones(2))\n",
    "print(np.arange(2, 9, 2))\n",
    "\n",
    "arr = np.array([2, 1, 5, 3, 7, 4, 6, 8])\n",
    "print(arr)\n",
    "arr = np.sort(arr)\n",
    "print(arr)\n",
    "print(arr.ndim) # dimension\n",
    "print(arr.size) # length\n",
    "print(arr.shape) # shape"
   ]
  },
  {
   "cell_type": "code",
   "execution_count": null,
   "id": "0fa536b4",
   "metadata": {},
   "outputs": [],
   "source": [
    "def binary_search(arr, key):\n",
    "    s = 0, e = len(arr)-1\n",
    "    while(s <= e):\n",
    "        m = s + (e - s)/2\n",
    "        if arr[m] == key:return m;\n",
    "        elif arr[m] < key: s = m + 1\n",
    "        else: e = m - 1"
   ]
  }
 ],
 "metadata": {
  "kernelspec": {
   "display_name": "Python 3 (ipykernel)",
   "language": "python",
   "name": "python3"
  },
  "language_info": {
   "codemirror_mode": {
    "name": "ipython",
    "version": 3
   },
   "file_extension": ".py",
   "mimetype": "text/x-python",
   "name": "python",
   "nbconvert_exporter": "python",
   "pygments_lexer": "ipython3",
   "version": "3.8.0"
  }
 },
 "nbformat": 4,
 "nbformat_minor": 5
}
