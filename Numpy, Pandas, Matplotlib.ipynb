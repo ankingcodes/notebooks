{
 "cells": [
  {
   "cell_type": "markdown",
   "id": "34ae451d",
   "metadata": {},
   "source": [
    "#### Working with files in python"
   ]
  },
  {
   "cell_type": "code",
   "execution_count": 1,
   "id": "3d1b1c5e",
   "metadata": {},
   "outputs": [
    {
     "name": "stdout",
     "output_type": "stream",
     "text": [
      "['This is a shit story.', 'But it is not a story.']\n"
     ]
    }
   ],
   "source": [
    "# create a file & write some stuff\n",
    "fileName = 'test.txt'\n",
    "with open(fileName, 'w') as f:\n",
    "    story = \"\"\"\n",
    "    This is a shit story.\n",
    "    But it is not a story.\n",
    "    \"\"\"\n",
    "    f.write(story)\n",
    "    f.close()\n",
    "    \n",
    "# read the file\n",
    "fileContent = \"\"\n",
    "with open(fileName, 'r+') as f:\n",
    "    fileContent = f.read()\n",
    "    f.close()\n",
    "\n",
    "# work with contents\n",
    "fileContent = [x.strip() for x in fileContent.strip().split(\"\\n\")]\n",
    "print(fileContent)"
   ]
  },
  {
   "cell_type": "markdown",
   "id": "5b575d71",
   "metadata": {},
   "source": [
    "#### Working with TOML files\n"
   ]
  },
  {
   "cell_type": "code",
   "execution_count": 2,
   "id": "941d9880",
   "metadata": {},
   "outputs": [
    {
     "name": "stdout",
     "output_type": "stream",
     "text": [
      "Defaulting to user installation because normal site-packages is not writeable\n",
      "Requirement already satisfied: toml in /home/anking/.local/lib/python3.8/site-packages (0.10.2)\n",
      "\u001b[33mWARNING: You are using pip version 21.2.2; however, version 21.2.3 is available.\n",
      "You should consider upgrading via the '/usr/bin/python3 -m pip install --upgrade pip' command.\u001b[0m\n",
      "Note: you may need to restart the kernel to use updated packages.\n"
     ]
    }
   ],
   "source": [
    "pip install toml"
   ]
  },
  {
   "cell_type": "code",
   "execution_count": 6,
   "id": "122f296e",
   "metadata": {},
   "outputs": [
    {
     "name": "stdout",
     "output_type": "stream",
     "text": [
      "{'title': 'TOML Example', 'owner': {'name': 'Ankush Bhardwaj', 'dob': datetime.datetime(1979, 5, 27, 7, 32, tzinfo=<toml.tz.TomlTz object at 0x7f5ffc720700>)}, 'database': {'server': '192.168.1.1', 'ports': [8001, 8001, 8002], 'connection_max': 5000, 'enabled': True}, 'clients': {'data': [['gamma', 'delta'], [1, 2]]}}\n",
      "title = \"TOML Example\"\n",
      "\n",
      "[owner]\n",
      "name = \"Ankush Bhardwaj\"\n",
      "dob = 1979-05-27T07:32:00-08:00\n",
      "\n",
      "[database]\n",
      "server = \"192.168.1.1\"\n",
      "ports = [ 8001, 8001, 8002,]\n",
      "connection_max = 5000\n",
      "enabled = true\n",
      "\n",
      "[clients]\n",
      "data = [ [ \"gamma\", \"delta\",], [ 1, 2,],]\n",
      "\n"
     ]
    }
   ],
   "source": [
    "import toml\n",
    "\n",
    "tomlFileName=\"toml_file.toml\"\n",
    "with open(tomlFileName) as f:\n",
    "    tomlContent = f.read()\n",
    "    \n",
    "# parse TOML Contents to dictionary\n",
    "tomlParser = toml.loads(tomlContent)\n",
    "print(tomlParser)\n",
    "\n",
    "# convert TOML dictionary to Toml string\n",
    "tomlString = toml.dumps(tomlParser)\n",
    "print(tomlString)\n"
   ]
  },
  {
   "cell_type": "markdown",
   "id": "236787ef",
   "metadata": {},
   "source": [
    "#### Working with JSON files"
   ]
  },
  {
   "cell_type": "code",
   "execution_count": 12,
   "id": "9dc2367a",
   "metadata": {},
   "outputs": [
    {
     "name": "stdout",
     "output_type": "stream",
     "text": [
      "\"\\n{\\n    \\\"name\\\": \\\"Ankush Bhardwaj\\\",\\n    \\\"database\\\": {\\n        \\\"server\\\": \\\"192.168.1.1\\\",\\n        \\\"ports\\\": [ 8001, 8001, 8002 ],\\n        \\\"enabled\\\": \\\"true\\\"\\n    }\\n}\\n\"\n",
      "\n",
      "{\n",
      "    \"name\": \"Ankush Bhardwaj\",\n",
      "    \"database\": {\n",
      "        \"server\": \"192.168.1.1\",\n",
      "        \"ports\": [ 8001, 8001, 8002 ],\n",
      "        \"enabled\": \"true\"\n",
      "    }\n",
      "}\n",
      "\n"
     ]
    }
   ],
   "source": [
    "import json\n",
    "json_string = \"\"\"\n",
    "{\n",
    "    \"name\": \"Ankush Bhardwaj\",\n",
    "    \"database\": {\n",
    "        \"server\": \"192.168.1.1\",\n",
    "        \"ports\": [ 8001, 8001, 8002 ],\n",
    "        \"enabled\": \"true\"\n",
    "    }\n",
    "}\n",
    "\"\"\"\n",
    "\n",
    "# parse json content\n",
    "jsonParser = json.dumps(json_string)\n",
    "print(jsonParser)\n",
    "\n",
    "# decode json content\n",
    "jsonLoad = json.loads(jsonParser)\n",
    "print(jsonLoad)"
   ]
  },
  {
   "cell_type": "markdown",
   "id": "fdf0789e",
   "metadata": {},
   "source": [
    "#### Numpy"
   ]
  },
  {
   "cell_type": "code",
   "execution_count": 14,
   "id": "0e71675d",
   "metadata": {},
   "outputs": [
    {
     "name": "stdout",
     "output_type": "stream",
     "text": [
      "Defaulting to user installation because normal site-packages is not writeable\n",
      "Collecting numpy\n",
      "  Downloading numpy-1.21.1-cp38-cp38-manylinux_2_12_x86_64.manylinux2010_x86_64.whl (15.8 MB)\n",
      "\u001b[K     |████████████████████████████████| 15.8 MB 1.2 MB/s eta 0:00:01\n",
      "\u001b[?25hInstalling collected packages: numpy\n",
      "Successfully installed numpy-1.21.1\n",
      "\u001b[33mWARNING: You are using pip version 21.2.2; however, version 21.2.3 is available.\n",
      "You should consider upgrading via the '/usr/bin/python3 -m pip install --upgrade pip' command.\u001b[0m\n",
      "Note: you may need to restart the kernel to use updated packages.\n"
     ]
    }
   ],
   "source": [
    "pip install numpy"
   ]
  },
  {
   "cell_type": "code",
   "execution_count": 7,
   "id": "f9c7c22b",
   "metadata": {},
   "outputs": [
    {
     "name": "stdout",
     "output_type": "stream",
     "text": [
      "[1 2 3 4 5 6]\n",
      "[[ 1  2  3  4]\n",
      " [ 5  6  7  8]\n",
      " [ 9 10 11 12]]\n",
      "2\n",
      "[0. 0.]\n",
      "[1. 1.]\n",
      "[2 4 6 8]\n",
      "[4 4]\n",
      "[2 1 5 3 7 4 6 8]\n",
      "[1 2 3 4 5 6 7 8]\n",
      "1\n",
      "8\n",
      "(8,)\n"
     ]
    }
   ],
   "source": [
    "import numpy as np\n",
    "np.__version__\n",
    "# 1D array - vector\n",
    "arr = np.array([1, 2, 3, 4, 5, 6])\n",
    "print(arr)\n",
    "\n",
    "# 2D array - matrix\n",
    "arr = np.array([[1, 2, 3, 4], [5, 6, 7, 8], [9, 10, 11, 12]])\n",
    "print(arr)\n",
    "print(arr[0][1])\n",
    "\n",
    "# ND array - tensor\n",
    "# initialization\n",
    "print(np.zeros(2))\n",
    "print(np.ones(2))\n",
    "print(np.arange(2, 9, 2))\n",
    "print(np.full(2, 4))\n",
    "\n",
    "arr = np.array([2, 1, 5, 3, 7, 4, 6, 8])\n",
    "print(arr)\n",
    "arr = np.sort(arr)\n",
    "print(arr)\n",
    "print(arr.ndim) # dimension\n",
    "print(arr.size) # length\n",
    "print(arr.shape) # shape"
   ]
  },
  {
   "cell_type": "code",
   "execution_count": 9,
   "id": "0fa536b4",
   "metadata": {},
   "outputs": [
    {
     "name": "stdout",
     "output_type": "stream",
     "text": [
      "Defaulting to user installation because normal site-packages is not writeable\n",
      "Requirement already satisfied: matplotlib in /home/anking/.local/lib/python3.8/site-packages (3.4.2)\n",
      "Requirement already satisfied: numpy>=1.16 in /home/anking/.local/lib/python3.8/site-packages (from matplotlib) (1.21.1)\n",
      "Requirement already satisfied: pyparsing>=2.2.1 in /home/anking/.local/lib/python3.8/site-packages (from matplotlib) (2.4.7)\n",
      "Requirement already satisfied: pillow>=6.2.0 in /home/anking/.local/lib/python3.8/site-packages (from matplotlib) (8.3.1)\n",
      "Requirement already satisfied: cycler>=0.10 in /home/anking/.local/lib/python3.8/site-packages (from matplotlib) (0.10.0)\n",
      "Requirement already satisfied: kiwisolver>=1.0.1 in /home/anking/.local/lib/python3.8/site-packages (from matplotlib) (1.3.1)\n",
      "Requirement already satisfied: python-dateutil>=2.7 in /home/anking/.local/lib/python3.8/site-packages (from matplotlib) (2.8.2)\n",
      "Requirement already satisfied: six in /home/anking/.local/lib/python3.8/site-packages (from cycler>=0.10->matplotlib) (1.16.0)\n",
      "\u001b[33mWARNING: You are using pip version 21.2.2; however, version 21.2.4 is available.\n",
      "You should consider upgrading via the '/usr/bin/python3 -m pip install --upgrade pip' command.\u001b[0m\n",
      "Note: you may need to restart the kernel to use updated packages.\n"
     ]
    }
   ],
   "source": [
    "pip install matplotlib"
   ]
  },
  {
   "cell_type": "code",
   "execution_count": 14,
   "id": "66bdf4c5",
   "metadata": {},
   "outputs": [
    {
     "data": {
      "text/plain": [
       "[<matplotlib.lines.Line2D at 0x7f43bf067310>]"
      ]
     },
     "execution_count": 14,
     "metadata": {},
     "output_type": "execute_result"
    },
    {
     "data": {
      "image/png": "[encoded data removed]",
      "text/plain": [
       "<Figure size 432x288 with 1 Axes>"
      ]
     },
     "metadata": {
      "needs_background": "light"
     },
     "output_type": "display_data"
    }
   ],
   "source": [
    "import numpy as np\n",
    "import matplotlib.pyplot as plt\n",
    "rg = np.random.default_rng(1)\n",
    "mu, sigma = 2, 0.5\n",
    "v = rg.normal(mu, sigma, 10000)\n",
    "plt.hist(v, bins=50, density=True)\n",
    "(n, bins) = np.histogram(v, bins=50, density=True)\n",
    "plt.plot(.5 * (bins[1:] + bins[:-1]), n)"
   ]
  },
  {
   "cell_type": "code",
   "execution_count": 15,
   "id": "c6a28198",
   "metadata": {},
   "outputs": [
    {
     "name": "stdout",
     "output_type": "stream",
     "text": [
      "Defaulting to user installation because normal site-packages is not writeable\n",
      "Collecting sklearn\n",
      "  Downloading sklearn-0.0.tar.gz (1.1 kB)\n",
      "Collecting scikit-learn\n",
      "  Downloading scikit_learn-0.24.2-cp38-cp38-manylinux2010_x86_64.whl (24.9 MB)\n",
      "\u001b[K     |████████████████████████████████| 24.9 MB 217 kB/s eta 0:00:01\n",
      "\u001b[?25hCollecting threadpoolctl>=2.0.0\n",
      "  Downloading threadpoolctl-2.2.0-py3-none-any.whl (12 kB)\n",
      "Collecting scipy>=0.19.1\n",
      "  Downloading scipy-1.7.1-cp38-cp38-manylinux_2_5_x86_64.manylinux1_x86_64.whl (28.4 MB)\n",
      "\u001b[K     |█▎                              | 1.2 MB 2.4 kB/s eta 3:08:42^C\n",
      "\n",
      "\u001b[31mERROR: Operation cancelled by user\u001b[0m\n",
      "\u001b[33mWARNING: You are using pip version 21.2.2; however, version 21.2.4 is available.\n",
      "You should consider upgrading via the '/usr/bin/python3 -m pip install --upgrade pip' command.\u001b[0m\n",
      "\u001b[?25hNote: you may need to restart the kernel to use updated packages.\n"
     ]
    }
   ],
   "source": [
    "pip install sklearn"
   ]
  },
  {
   "cell_type": "code",
   "execution_count": null,
   "id": "7104d75b",
   "metadata": {},
   "outputs": [],
   "source": []
  },
  {
   "cell_type": "code",
   "execution_count": null,
   "id": "b2434e5c",
   "metadata": {},
   "outputs": [],
   "source": []
  }
 ],
 "metadata": {
  "kernelspec": {
   "display_name": "Python 3 (ipykernel)",
   "language": "python",
   "name": "python3"
  },
  "language_info": {
   "codemirror_mode": {
    "name": "ipython",
    "version": 3
   },
   "file_extension": ".py",
   "mimetype": "text/x-python",
   "name": "python",
   "nbconvert_exporter": "python",
   "pygments_lexer": "ipython3",
   "version": "3.8.0"
  }
 },
 "nbformat": 4,
 "nbformat_minor": 5
}
