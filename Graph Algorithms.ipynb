{
 "cells": [
  {
   "cell_type": "markdown",
   "id": "e5a4381a",
   "metadata": {},
   "source": [
    "### Graph Algorithms"
   ]
  },
  {
   "cell_type": "code",
   "execution_count": 3,
   "id": "f0812306",
   "metadata": {},
   "outputs": [],
   "source": [
    "\n",
    "# adding edge\n",
    "def addEdge(adj, u, v):\n",
    "    adj[u].append(v)\n",
    "    adj[v].append(u)\n",
    "    return adj"
   ]
  },
  {
   "cell_type": "code",
   "execution_count": 4,
   "id": "7b6c7b93",
   "metadata": {},
   "outputs": [],
   "source": [
    "# DFS traversal\n",
    "def DFSHelper(u, adj, seen):\n",
    "    seen[u] = True\n",
    "    print(u, end=\" \")\n",
    "    for i in range(len(adj[u])):\n",
    "        if not seen[adj[u][i]]:\n",
    "            DFSHelper(adj[u][i], adj, seen)\n",
    "    \n",
    "def DFS(adj, V):\n",
    "    seen = [False]*(V+1)\n",
    "    for u in range(V):\n",
    "        if not seen[u]:\n",
    "            DFSHelper(u, adj, seen)\n",
    "            \n",
    "# BFS traversal\n",
    "def BFSHelper(u, adj, seen):\n",
    "    queue = []\n",
    "    queue.append(u)\n",
    "    seen[u] = True\n",
    "    while queue:\n",
    "        s = queue.pop(0)\n",
    "        print(s, end=\" \")\n",
    "        for i in range(len(adj[u])):\n",
    "            if not seen[i]:\n",
    "                queue.append(i)\n",
    "                seen[i] = True\n",
    "\n",
    "def BFS(adj, V):\n",
    "    seen = [False]*(V+1)\n",
    "    for u in range(V):\n",
    "        if not seen[u]:\n",
    "            BFSHelper(u, adj, seen)"
   ]
  },
  {
   "cell_type": "code",
   "execution_count": 5,
   "id": "0c6953f1",
   "metadata": {},
   "outputs": [],
   "source": [
    "# cycle detection using BFS\n",
    "def cycleDetectionHelper(adj, V, u, seen):\n",
    "    queue = []\n",
    "    queue.append({u , -1})\n",
    "    seen[u] = True\n",
    "    while queue:\n",
    "        node, prev = queue.pop(0)\n",
    "        for i in range(len(adj[u])):\n",
    "            if not seen[i]:\n",
    "                seen[i] = True\n",
    "                queue.append({i, node})\n",
    "            elif prev != i:\n",
    "                return True\n",
    "    return False\n",
    "    \n",
    "\n",
    "def detectCycle(adj, V):\n",
    "    seen = [False]*(V+1)\n",
    "    for u in range(V):\n",
    "        if not seen[u]:\n",
    "            if cycleDetectionHelper(adj, V, u, seen):\n",
    "                return True\n",
    "    return False\n",
    "\n",
    "# cycle detection using DFS\n",
    "def checkCycle(node, prev, seen, adj):\n",
    "    seen[node] = True\n",
    "    for i in range(len(adj[node])):\n",
    "        if not seen[i]:\n",
    "            if checkCycle(i, node, seen, adj):\n",
    "                return True\n",
    "            elif i != prev:\n",
    "                return True\n",
    "    return False\n",
    "            \n",
    "def detectCycleDFS(adj, V):\n",
    "    seen = [False]*(V+1)\n",
    "    for u in range(V):\n",
    "        if not seen[u]:\n",
    "            if checkCycle(u, -1, seen, adj):\n",
    "                return True\n",
    "    return False"
   ]
  },
  {
   "cell_type": "code",
   "execution_count": 6,
   "id": "c5b8c610",
   "metadata": {},
   "outputs": [],
   "source": [
    "# check bipartite (BFS)\n",
    "def checkBipartiteBFSHelper(u, adj, color):\n",
    "    queue = []\n",
    "    queue.append(u)\n",
    "    color[u] = 1\n",
    "    while queue:\n",
    "        node = queue.pop(0)\n",
    "        for i in range(len(adj[node])):\n",
    "            if color[i] == -1:\n",
    "                color[i] = 1 - color[node]\n",
    "                queue.append(i)\n",
    "            elif color[i] == color[node]:\n",
    "                return False\n",
    "    return True\n",
    "\n",
    "def checkBipartiteBFS(adj, V):\n",
    "    color = [-1]*(V+1)\n",
    "    for u in range(V):\n",
    "        if not checkBipartiteBFSHelper(u, adj, color):\n",
    "            return False\n",
    "    return True\n",
    "\n",
    "# check bipartite (DFS)\n",
    "def checkBipartiteDFSHelper(u, adj, color):\n",
    "    if color[u] == -1:\n",
    "        color[u] = 1\n",
    "    for i in range(len(adj[u])):\n",
    "        if color[i] == -1:\n",
    "            color[i] = 1 - color[u]\n",
    "            if not checkBipartiteDFSHelper(i, adj, color):\n",
    "                return False\n",
    "        elif color[i] == color[u]:\n",
    "            return Fa\n",
    "\n",
    "def checkBipartiteDFS(adj, V):\n",
    "    color = [-1]*(V+1)\n",
    "    for u in range(V):\n",
    "        if not checkBipartiteDFSHelper(u, adj, color):\n",
    "            return False\n",
    "    return True"
   ]
  },
  {
   "cell_type": "code",
   "execution_count": 10,
   "id": "55ecd052",
   "metadata": {},
   "outputs": [
    {
     "name": "stdout",
     "output_type": "stream",
     "text": [
      "[[1, 4], [0, 2, 3, 4], [1, 3], [1, 2, 4], [0, 1, 3]]\n",
      "0 1 2 3 4 \n",
      "0 1 2 3 4 \n",
      "True\n",
      "True\n",
      "False\n"
     ]
    }
   ],
   "source": [
    "# representation of graphs\n",
    "V = 5\n",
    "adj = [[] for i in range(V)]\n",
    "\n",
    "adj = addEdge(adj, 0, 1)\n",
    "adj = addEdge(adj, 0, 4)\n",
    "adj = addEdge(adj, 1, 2)\n",
    "adj = addEdge(adj, 1, 3)\n",
    "adj = addEdge(adj, 1, 4)\n",
    "adj = addEdge(adj, 2, 3)\n",
    "adj = addEdge(adj, 3, 4)\n",
    "print(adj)\n",
    "DFS(adj, V)\n",
    "print()\n",
    "BFS(adj, V)\n",
    "print()\n",
    "print(detectCycle(adj, V))\n",
    "print(detectCycleDFS(adj, V))\n",
    "print(checkBipartiteBFS(adj, V))\n"
   ]
  },
  {
   "cell_type": "markdown",
   "id": "ae7ba47c",
   "metadata": {},
   "source": [
    "### Weighted Graphs"
   ]
  },
  {
   "cell_type": "code",
   "execution_count": 45,
   "id": "b79cc627",
   "metadata": {},
   "outputs": [],
   "source": [
    "def addEdge(adj, u, v, wt):\n",
    "    adj[u].append((v, wt))\n",
    "    adj[v].append((u, wt))\n",
    "    return adj"
   ]
  },
  {
   "cell_type": "code",
   "execution_count": 95,
   "id": "25d8cfbe",
   "metadata": {},
   "outputs": [],
   "source": [
    "# Dijkstra's Algorithm\n",
    "from heapq import heapify, heappush, heappop\n",
    "import sys\n",
    "\n",
    "def dijkstra(n, src, adj):\n",
    "    # min-heap & dist array\n",
    "    pq, dist = [], [1000]*(n+1)\n",
    "    heapify(pq)\n",
    "    dist[src] = 0\n",
    "    heappush(pq, {0, src})\n",
    "    while len(pq) > 0:\n",
    "        if len(pq[0]) > 1: prevDist, prevNode = pq[0]\n",
    "        heappop(pq)\n",
    "        for i in adj[prevNode]:\n",
    "            nextNode, nextDist = i\n",
    "            totalSum = prevDist+nextDist\n",
    "            if dist[nextNode] > totalSum:\n",
    "                dist[nextNode] = dist[prevNode]+nextDist\n",
    "                heappush(pq, { dist[nextNode], nextDist })\n",
    "    return dist\n",
    "\n",
    "    \n"
   ]
  },
  {
   "cell_type": "code",
   "execution_count": 96,
   "id": "ebb3d184",
   "metadata": {},
   "outputs": [
    {
     "name": "stdout",
     "output_type": "stream",
     "text": [
      "[1000, 0, 2, 1000, 1, 1000]\n"
     ]
    }
   ],
   "source": [
    "V = 5\n",
    "adj = [[] for i in range(V+1)]\n",
    "adj = addEdge(adj, 1, 2, 2)\n",
    "adj = addEdge(adj, 2, 5, 5)\n",
    "adj = addEdge(adj, 1, 4, 1)\n",
    "adj = addEdge(adj, 4, 3, 3)\n",
    "adj = addEdge(adj, 3, 5, 1)\n",
    "adj = addEdge(adj, 3, 2, 4)\n",
    "dist = dijkstra(V, 1, adj)\n",
    "print(dist)"
   ]
  },
  {
   "cell_type": "code",
   "execution_count": null,
   "id": "52ec266d",
   "metadata": {},
   "outputs": [],
   "source": []
  }
 ],
 "metadata": {
  "kernelspec": {
   "display_name": "Python 3 (ipykernel)",
   "language": "python",
   "name": "python3"
  },
  "language_info": {
   "codemirror_mode": {
    "name": "ipython",
    "version": 3
   },
   "file_extension": ".py",
   "mimetype": "text/x-python",
   "name": "python",
   "nbconvert_exporter": "python",
   "pygments_lexer": "ipython3",
   "version": "3.8.0"
  }
 },
 "nbformat": 4,
 "nbformat_minor": 5
}
